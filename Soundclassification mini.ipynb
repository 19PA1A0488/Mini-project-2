{
 "cells": [
  {
   "cell_type": "code",
   "execution_count": 50,
   "metadata": {
    "scrolled": true
   },
   "outputs": [
    {
     "name": "stdout",
     "output_type": "stream",
     "text": [
      "Requirement already satisfied: librosa in c:\\users\\priya lakku\\anaconda3\\lib\\site-packages (0.8.1)\n",
      "Requirement already satisfied: pooch>=1.0 in c:\\users\\priya lakku\\anaconda3\\lib\\site-packages (from librosa) (1.5.2)\n",
      "Requirement already satisfied: resampy>=0.2.2 in c:\\users\\priya lakku\\anaconda3\\lib\\site-packages (from librosa) (0.2.2)\n",
      "Requirement already satisfied: joblib>=0.14 in c:\\users\\priya lakku\\anaconda3\\lib\\site-packages (from librosa) (0.16.0)\n",
      "Requirement already satisfied: numpy>=1.15.0 in c:\\users\\priya lakku\\anaconda3\\lib\\site-packages (from librosa) (1.18.5)\n",
      "Requirement already satisfied: audioread>=2.0.0 in c:\\users\\priya lakku\\anaconda3\\lib\\site-packages (from librosa) (2.1.9)\n",
      "Requirement already satisfied: numba>=0.43.0 in c:\\users\\priya lakku\\anaconda3\\lib\\site-packages (from librosa) (0.50.1)\n",
      "Requirement already satisfied: soundfile>=0.10.2 in c:\\users\\priya lakku\\anaconda3\\lib\\site-packages (from librosa) (0.10.3.post1)\n",
      "Requirement already satisfied: decorator>=3.0.0 in c:\\users\\priya lakku\\anaconda3\\lib\\site-packages (from librosa) (4.4.2)\n",
      "Requirement already satisfied: scikit-learn!=0.19.0,>=0.14.0 in c:\\users\\priya lakku\\anaconda3\\lib\\site-packages (from librosa) (0.23.1)\n",
      "Requirement already satisfied: scipy>=1.0.0 in c:\\users\\priya lakku\\anaconda3\\lib\\site-packages (from librosa) (1.5.0)\n",
      "Requirement already satisfied: packaging>=20.0 in c:\\users\\priya lakku\\anaconda3\\lib\\site-packages (from librosa) (20.4)\n",
      "Requirement already satisfied: requests in c:\\users\\priya lakku\\anaconda3\\lib\\site-packages (from pooch>=1.0->librosa) (2.25.1)\n",
      "Requirement already satisfied: appdirs in c:\\users\\priya lakku\\anaconda3\\lib\\site-packages (from pooch>=1.0->librosa) (1.4.4)\n",
      "Requirement already satisfied: six>=1.3 in c:\\users\\priya lakku\\anaconda3\\lib\\site-packages (from resampy>=0.2.2->librosa) (1.15.0)\n",
      "Requirement already satisfied: llvmlite<0.34,>=0.33.0.dev0 in c:\\users\\priya lakku\\anaconda3\\lib\\site-packages (from numba>=0.43.0->librosa) (0.33.0+1.g022ab0f)\n",
      "Requirement already satisfied: setuptools in c:\\users\\priya lakku\\anaconda3\\lib\\site-packages (from numba>=0.43.0->librosa) (49.2.0.post20200714)\n",
      "Requirement already satisfied: cffi>=1.0 in c:\\users\\priya lakku\\anaconda3\\lib\\site-packages (from soundfile>=0.10.2->librosa) (1.14.0)\n",
      "Requirement already satisfied: threadpoolctl>=2.0.0 in c:\\users\\priya lakku\\anaconda3\\lib\\site-packages (from scikit-learn!=0.19.0,>=0.14.0->librosa) (2.1.0)\n",
      "Requirement already satisfied: pyparsing>=2.0.2 in c:\\users\\priya lakku\\anaconda3\\lib\\site-packages (from packaging>=20.0->librosa) (2.4.7)\n",
      "Requirement already satisfied: chardet<5,>=3.0.2 in c:\\users\\priya lakku\\anaconda3\\lib\\site-packages (from requests->pooch>=1.0->librosa) (3.0.4)\n",
      "Requirement already satisfied: urllib3<1.27,>=1.21.1 in c:\\users\\priya lakku\\anaconda3\\lib\\site-packages (from requests->pooch>=1.0->librosa) (1.25.9)\n",
      "Requirement already satisfied: certifi>=2017.4.17 in c:\\users\\priya lakku\\anaconda3\\lib\\site-packages (from requests->pooch>=1.0->librosa) (2020.6.20)\n",
      "Requirement already satisfied: idna<3,>=2.5 in c:\\users\\priya lakku\\anaconda3\\lib\\site-packages (from requests->pooch>=1.0->librosa) (2.10)\n",
      "Requirement already satisfied: pycparser in c:\\users\\priya lakku\\anaconda3\\lib\\site-packages (from cffi>=1.0->soundfile>=0.10.2->librosa) (2.20)\n"
     ]
    }
   ],
   "source": [
    "!pip install librosa"
   ]
  },
  {
   "cell_type": "markdown",
   "metadata": {},
   "source": [
    "# DATA ANALYSIS"
   ]
  },
  {
   "cell_type": "code",
   "execution_count": 51,
   "metadata": {},
   "outputs": [],
   "source": [
    "import matplotlib.pyplot as plt\n",
    "%matplotlib inline"
   ]
  },
  {
   "cell_type": "code",
   "execution_count": 52,
   "metadata": {},
   "outputs": [],
   "source": [
    "filename='UrbanSound8K/100263-2-0-3.wav'"
   ]
  },
  {
   "cell_type": "code",
   "execution_count": 53,
   "metadata": {},
   "outputs": [],
   "source": [
    "import IPython.display as ipd\n",
    "import librosa\n",
    "import librosa.display\n",
    "from tensorflow.keras.utils import to_categorical\n",
    "from sklearn.preprocessing import LabelEncoder\n",
    "from sklearn.model_selection import train_test_spli"
   ]
  },
  {
   "cell_type": "code",
   "execution_count": 54,
   "metadata": {},
   "outputs": [
    {
     "name": "stdout",
     "output_type": "stream",
     "text": [
      " Volume in drive D is Data\n",
      " Volume Serial Number is 64C1-79E3\n",
      "\n",
      " Directory of D:\\\n",
      "\n",
      "21-01-2022  09.26 AM    <DIR>          .ipynb_checkpoints\n",
      "25-01-2022  05.40 PM    <DIR>          Adobe\n",
      "04-08-2019  05.00 AM    <DIR>          Drivers\n",
      "10-11-2021  04.10 PM    <DIR>          files\n",
      "25-01-2022  05.52 PM    <DIR>          Movies\n",
      "14-01-2022  07.35 PM    <DIR>          priya\n",
      "17-06-2021  04.26 PM    <DIR>          Program Files\n",
      "22-12-2021  06.15 AM         1,127,754 Review-2.ipynb\n",
      "15-12-2021  08.14 PM    <DIR>          saved_models\n",
      "22-01-2022  06.41 PM    <DIR>          SendAnywhere\n",
      "25-01-2022  05.59 PM    <DIR>          sound\n",
      "27-02-2022  06.37 AM           130,965 Soundclassification.ipynb\n",
      "20-01-2022  12.28 PM           283,242 ssrep.docx\n",
      "14-12-2021  12.08 AM           166,580 Untitled.ipynb\n",
      "20-01-2022  06.33 PM    <DIR>          UrbanSound8K\n",
      "31-12-2021  08.20 PM    <DIR>          WindowsApps\n",
      "17-06-2021  04.26 PM    <DIR>          WpSystem\n",
      "09-01-2022  12.00 PM    <DIR>          WUDownloadCache\n",
      "               4 File(s)      1,708,541 bytes\n",
      "              14 Dir(s)  877,827,186,688 bytes free\n"
     ]
    }
   ],
   "source": [
    "!dir"
   ]
  },
  {
   "cell_type": "code",
   "execution_count": 55,
   "metadata": {},
   "outputs": [],
   "source": [
    "from scipy.io import wavfile as wav\n",
    "wave_sample_rate, wave_audio=wav.read(filename)"
   ]
  },
  {
   "cell_type": "code",
   "execution_count": 56,
   "metadata": {},
   "outputs": [
    {
     "data": {
      "text/plain": [
       "44100"
      ]
     },
     "execution_count": 56,
     "metadata": {},
     "output_type": "execute_result"
    }
   ],
   "source": [
    "wave_sample_rate"
   ]
  },
  {
   "cell_type": "code",
   "execution_count": 57,
   "metadata": {},
   "outputs": [
    {
     "data": {
      "text/plain": [
       "array([[ 194,  100],\n",
       "       [ 179,  113],\n",
       "       [ 160,  124],\n",
       "       ...,\n",
       "       [-143,  -87],\n",
       "       [-134,  -91],\n",
       "       [-110,  -98]], dtype=int16)"
      ]
     },
     "execution_count": 57,
     "metadata": {},
     "output_type": "execute_result"
    }
   ],
   "source": [
    "wave_audio"
   ]
  },
  {
   "cell_type": "code",
   "execution_count": 58,
   "metadata": {},
   "outputs": [
    {
     "data": {
      "text/plain": [
       "[<matplotlib.lines.Line2D at 0x1db0c803c40>,\n",
       " <matplotlib.lines.Line2D at 0x1db0c803280>]"
      ]
     },
     "execution_count": 58,
     "metadata": {},
     "output_type": "execute_result"
    },
    {
     "data": {
      "image/png": "[encoded data removed]",
      "text/plain": [
       "<Figure size 864x288 with 1 Axes>"
      ]
     },
     "metadata": {
      "needs_background": "light"
     },
     "output_type": "display_data"
    }
   ],
   "source": [
    "plt.figure(figsize=(12, 4))\n",
    "plt.plot(wave_audio)"
   ]
  },
  {
   "cell_type": "code",
   "execution_count": 59,
   "metadata": {},
   "outputs": [
    {
     "data": {
      "text/html": [
       "<div>\n",
       "<style scoped>\n",
       "    .dataframe tbody tr th:only-of-type {\n",
       "        vertical-align: middle;\n",
       "    }\n",
       "\n",
       "    .dataframe tbody tr th {\n",
       "        vertical-align: top;\n",
       "    }\n",
       "\n",
       "    .dataframe thead th {\n",
       "        text-align: right;\n",
       "    }\n",
       "</style>\n",
       "<table border=\"1\" class=\"dataframe\">\n",
       "  <thead>\n",
       "    <tr style=\"text-align: right;\">\n",
       "      <th></th>\n",
       "      <th>slice_file_name</th>\n",
       "      <th>fsID</th>\n",
       "      <th>start</th>\n",
       "      <th>end</th>\n",
       "      <th>salience</th>\n",
       "      <th>fold</th>\n",
       "      <th>classID</th>\n",
       "      <th>class</th>\n",
       "    </tr>\n",
       "  </thead>\n",
       "  <tbody>\n",
       "    <tr>\n",
       "      <th>0</th>\n",
       "      <td>100032-3-0-0.wav</td>\n",
       "      <td>100032</td>\n",
       "      <td>0.000000</td>\n",
       "      <td>0.317551</td>\n",
       "      <td>1</td>\n",
       "      <td>5</td>\n",
       "      <td>3</td>\n",
       "      <td>dog_bark</td>\n",
       "    </tr>\n",
       "    <tr>\n",
       "      <th>1</th>\n",
       "      <td>100263-2-0-117.wav</td>\n",
       "      <td>100263</td>\n",
       "      <td>58.500000</td>\n",
       "      <td>62.500000</td>\n",
       "      <td>1</td>\n",
       "      <td>5</td>\n",
       "      <td>2</td>\n",
       "      <td>children_playing</td>\n",
       "    </tr>\n",
       "    <tr>\n",
       "      <th>2</th>\n",
       "      <td>100263-2-0-121.wav</td>\n",
       "      <td>100263</td>\n",
       "      <td>60.500000</td>\n",
       "      <td>64.500000</td>\n",
       "      <td>1</td>\n",
       "      <td>5</td>\n",
       "      <td>2</td>\n",
       "      <td>children_playing</td>\n",
       "    </tr>\n",
       "    <tr>\n",
       "      <th>3</th>\n",
       "      <td>100263-2-0-126.wav</td>\n",
       "      <td>100263</td>\n",
       "      <td>63.000000</td>\n",
       "      <td>67.000000</td>\n",
       "      <td>1</td>\n",
       "      <td>5</td>\n",
       "      <td>2</td>\n",
       "      <td>children_playing</td>\n",
       "    </tr>\n",
       "    <tr>\n",
       "      <th>4</th>\n",
       "      <td>100263-2-0-137.wav</td>\n",
       "      <td>100263</td>\n",
       "      <td>68.500000</td>\n",
       "      <td>72.500000</td>\n",
       "      <td>1</td>\n",
       "      <td>5</td>\n",
       "      <td>2</td>\n",
       "      <td>children_playing</td>\n",
       "    </tr>\n",
       "    <tr>\n",
       "      <th>5</th>\n",
       "      <td>100263-2-0-143.wav</td>\n",
       "      <td>100263</td>\n",
       "      <td>71.500000</td>\n",
       "      <td>75.500000</td>\n",
       "      <td>1</td>\n",
       "      <td>5</td>\n",
       "      <td>2</td>\n",
       "      <td>children_playing</td>\n",
       "    </tr>\n",
       "    <tr>\n",
       "      <th>6</th>\n",
       "      <td>100263-2-0-161.wav</td>\n",
       "      <td>100263</td>\n",
       "      <td>80.500000</td>\n",
       "      <td>84.500000</td>\n",
       "      <td>1</td>\n",
       "      <td>5</td>\n",
       "      <td>2</td>\n",
       "      <td>children_playing</td>\n",
       "    </tr>\n",
       "    <tr>\n",
       "      <th>7</th>\n",
       "      <td>100263-2-0-3.wav</td>\n",
       "      <td>100263</td>\n",
       "      <td>1.500000</td>\n",
       "      <td>5.500000</td>\n",
       "      <td>1</td>\n",
       "      <td>5</td>\n",
       "      <td>2</td>\n",
       "      <td>children_playing</td>\n",
       "    </tr>\n",
       "    <tr>\n",
       "      <th>8</th>\n",
       "      <td>100263-2-0-36.wav</td>\n",
       "      <td>100263</td>\n",
       "      <td>18.000000</td>\n",
       "      <td>22.000000</td>\n",
       "      <td>1</td>\n",
       "      <td>5</td>\n",
       "      <td>2</td>\n",
       "      <td>children_playing</td>\n",
       "    </tr>\n",
       "    <tr>\n",
       "      <th>9</th>\n",
       "      <td>100648-1-0-0.wav</td>\n",
       "      <td>100648</td>\n",
       "      <td>4.823402</td>\n",
       "      <td>5.471927</td>\n",
       "      <td>2</td>\n",
       "      <td>10</td>\n",
       "      <td>1</td>\n",
       "      <td>car_horn</td>\n",
       "    </tr>\n",
       "  </tbody>\n",
       "</table>\n",
       "</div>"
      ],
      "text/plain": [
       "      slice_file_name    fsID      start        end  salience  fold  classID  \\\n",
       "0    100032-3-0-0.wav  100032   0.000000   0.317551         1     5        3   \n",
       "1  100263-2-0-117.wav  100263  58.500000  62.500000         1     5        2   \n",
       "2  100263-2-0-121.wav  100263  60.500000  64.500000         1     5        2   \n",
       "3  100263-2-0-126.wav  100263  63.000000  67.000000         1     5        2   \n",
       "4  100263-2-0-137.wav  100263  68.500000  72.500000         1     5        2   \n",
       "5  100263-2-0-143.wav  100263  71.500000  75.500000         1     5        2   \n",
       "6  100263-2-0-161.wav  100263  80.500000  84.500000         1     5        2   \n",
       "7    100263-2-0-3.wav  100263   1.500000   5.500000         1     5        2   \n",
       "8   100263-2-0-36.wav  100263  18.000000  22.000000         1     5        2   \n",
       "9    100648-1-0-0.wav  100648   4.823402   5.471927         2    10        1   \n",
       "\n",
       "              class  \n",
       "0          dog_bark  \n",
       "1  children_playing  \n",
       "2  children_playing  \n",
       "3  children_playing  \n",
       "4  children_playing  \n",
       "5  children_playing  \n",
       "6  children_playing  \n",
       "7  children_playing  \n",
       "8  children_playing  \n",
       "9          car_horn  "
      ]
     },
     "execution_count": 59,
     "metadata": {},
     "output_type": "execute_result"
    }
   ],
   "source": [
    "import pandas as pd\n",
    "\n",
    "metadata=pd.read_csv('UrbanSound8K/metadata/UrbanSound8K.csv')\n",
    "metadata.head(10)"
   ]
  },
  {
   "cell_type": "code",
   "execution_count": 60,
   "metadata": {},
   "outputs": [
    {
     "data": {
      "text/plain": [
       "drilling            1000\n",
       "jackhammer          1000\n",
       "engine_idling       1000\n",
       "children_playing    1000\n",
       "street_music        1000\n",
       "air_conditioner     1000\n",
       "dog_bark            1000\n",
       "siren                929\n",
       "car_horn             429\n",
       "gun_shot             374\n",
       "Name: class, dtype: int64"
      ]
     },
     "execution_count": 60,
     "metadata": {},
     "output_type": "execute_result"
    }
   ],
   "source": [
    "metadata['class'].value_counts()"
   ]
  },
  {
   "cell_type": "markdown",
   "metadata": {},
   "source": [
    "# DATA PRE-PROCESSING"
   ]
  },
  {
   "cell_type": "code",
   "execution_count": 70,
   "metadata": {},
   "outputs": [],
   "source": [
    "### Let's read a sample audio using librosa\n",
    "import librosa\n",
    "audio_file_path='UrbanSound8K/100263-2-0-3.wav'\n",
    "librosa_audio_data,librosa_sample_rate=librosa.load(audio_file_path)\n"
   ]
  },
  {
   "cell_type": "code",
   "execution_count": 71,
   "metadata": {},
   "outputs": [
    {
     "name": "stdout",
     "output_type": "stream",
     "text": [
      "22050\n"
     ]
    }
   ],
   "source": [
    "print(librosa_sample_rate)"
   ]
  },
  {
   "cell_type": "code",
   "execution_count": 72,
   "metadata": {},
   "outputs": [
    {
     "name": "stdout",
     "output_type": "stream",
     "text": [
      "[ 0.00330576  0.00468387  0.00360455 ... -0.0037562  -0.00348641\n",
      " -0.00356705]\n"
     ]
    }
   ],
   "source": [
    "print(librosa_audio_data)"
   ]
  },
  {
   "cell_type": "code",
   "execution_count": 73,
   "metadata": {},
   "outputs": [
    {
     "data": {
      "text/plain": [
       "[<matplotlib.lines.Line2D at 0x1db0d9c4640>]"
      ]
     },
     "execution_count": 73,
     "metadata": {},
     "output_type": "execute_result"
    },
    {
     "data": {
      "image/png": "[encoded data removed]",
      "text/plain": [
       "<Figure size 864x288 with 1 Axes>"
      ]
     },
     "metadata": {
      "needs_background": "light"
     },
     "output_type": "display_data"
    }
   ],
   "source": [
    "plt.figure(figsize=(12, 4))\n",
    "plt.plot(librosa_audio_data)"
   ]
  },
  {
   "cell_type": "markdown",
   "metadata": {},
   "source": [
    "# FEATURE EXTRACTION"
   ]
  },
  {
   "cell_type": "code",
   "execution_count": 74,
   "metadata": {},
   "outputs": [
    {
     "name": "stdout",
     "output_type": "stream",
     "text": [
      "(40, 173)\n"
     ]
    }
   ],
   "source": [
    "mfccs = librosa.feature.mfcc(y=librosa_audio_data, sr=librosa_sample_rate, n_mfcc=40)\n",
    "print(mfccs.shape)"
   ]
  },
  {
   "cell_type": "code",
   "execution_count": 75,
   "metadata": {},
   "outputs": [
    {
     "data": {
      "text/plain": [
       "array([[-4.45197296e+02, -4.47219299e+02, -4.49755127e+02, ...,\n",
       "        -4.77412781e+02, -4.74241730e+02, -4.82704987e+02],\n",
       "       [ 1.12513969e+02,  1.11970383e+02,  1.12244164e+02, ...,\n",
       "         1.12045395e+02,  1.12248581e+02,  1.05560913e+02],\n",
       "       [-1.58260956e+01, -2.30021858e+01, -3.12500191e+01, ...,\n",
       "        -9.15442085e+00, -1.03232279e+01, -7.39410734e+00],\n",
       "       ...,\n",
       "       [-7.82766485e+00, -5.03880405e+00, -4.48165464e+00, ...,\n",
       "        -1.90691590e-01,  4.34143829e+00,  1.00339069e+01],\n",
       "       [-1.91763425e+00, -8.02737713e-01, -1.20930421e+00, ...,\n",
       "        -1.23643339e-01,  2.90545225e-02,  9.22017097e-01],\n",
       "       [-3.88130605e-01,  3.09317827e-01,  6.72155762e+00, ...,\n",
       "        -2.33736658e+00, -4.25180149e+00, -2.31322765e+00]], dtype=float32)"
      ]
     },
     "execution_count": 75,
     "metadata": {},
     "output_type": "execute_result"
    }
   ],
   "source": [
    "mfccs"
   ]
  },
  {
   "cell_type": "code",
   "execution_count": 76,
   "metadata": {},
   "outputs": [
    {
     "data": {
      "text/html": [
       "<div>\n",
       "<style scoped>\n",
       "    .dataframe tbody tr th:only-of-type {\n",
       "        vertical-align: middle;\n",
       "    }\n",
       "\n",
       "    .dataframe tbody tr th {\n",
       "        vertical-align: top;\n",
       "    }\n",
       "\n",
       "    .dataframe thead th {\n",
       "        text-align: right;\n",
       "    }\n",
       "</style>\n",
       "<table border=\"1\" class=\"dataframe\">\n",
       "  <thead>\n",
       "    <tr style=\"text-align: right;\">\n",
       "      <th></th>\n",
       "      <th>slice_file_name</th>\n",
       "      <th>fsID</th>\n",
       "      <th>start</th>\n",
       "      <th>end</th>\n",
       "      <th>salience</th>\n",
       "      <th>fold</th>\n",
       "      <th>classID</th>\n",
       "      <th>class</th>\n",
       "    </tr>\n",
       "  </thead>\n",
       "  <tbody>\n",
       "    <tr>\n",
       "      <th>0</th>\n",
       "      <td>100032-3-0-0.wav</td>\n",
       "      <td>100032</td>\n",
       "      <td>0.0</td>\n",
       "      <td>0.317551</td>\n",
       "      <td>1</td>\n",
       "      <td>5</td>\n",
       "      <td>3</td>\n",
       "      <td>dog_bark</td>\n",
       "    </tr>\n",
       "    <tr>\n",
       "      <th>1</th>\n",
       "      <td>100263-2-0-117.wav</td>\n",
       "      <td>100263</td>\n",
       "      <td>58.5</td>\n",
       "      <td>62.500000</td>\n",
       "      <td>1</td>\n",
       "      <td>5</td>\n",
       "      <td>2</td>\n",
       "      <td>children_playing</td>\n",
       "    </tr>\n",
       "    <tr>\n",
       "      <th>2</th>\n",
       "      <td>100263-2-0-121.wav</td>\n",
       "      <td>100263</td>\n",
       "      <td>60.5</td>\n",
       "      <td>64.500000</td>\n",
       "      <td>1</td>\n",
       "      <td>5</td>\n",
       "      <td>2</td>\n",
       "      <td>children_playing</td>\n",
       "    </tr>\n",
       "    <tr>\n",
       "      <th>3</th>\n",
       "      <td>100263-2-0-126.wav</td>\n",
       "      <td>100263</td>\n",
       "      <td>63.0</td>\n",
       "      <td>67.000000</td>\n",
       "      <td>1</td>\n",
       "      <td>5</td>\n",
       "      <td>2</td>\n",
       "      <td>children_playing</td>\n",
       "    </tr>\n",
       "    <tr>\n",
       "      <th>4</th>\n",
       "      <td>100263-2-0-137.wav</td>\n",
       "      <td>100263</td>\n",
       "      <td>68.5</td>\n",
       "      <td>72.500000</td>\n",
       "      <td>1</td>\n",
       "      <td>5</td>\n",
       "      <td>2</td>\n",
       "      <td>children_playing</td>\n",
       "    </tr>\n",
       "  </tbody>\n",
       "</table>\n",
       "</div>"
      ],
      "text/plain": [
       "      slice_file_name    fsID  start        end  salience  fold  classID  \\\n",
       "0    100032-3-0-0.wav  100032    0.0   0.317551         1     5        3   \n",
       "1  100263-2-0-117.wav  100263   58.5  62.500000         1     5        2   \n",
       "2  100263-2-0-121.wav  100263   60.5  64.500000         1     5        2   \n",
       "3  100263-2-0-126.wav  100263   63.0  67.000000         1     5        2   \n",
       "4  100263-2-0-137.wav  100263   68.5  72.500000         1     5        2   \n",
       "\n",
       "              class  \n",
       "0          dog_bark  \n",
       "1  children_playing  \n",
       "2  children_playing  \n",
       "3  children_playing  \n",
       "4  children_playing  "
      ]
     },
     "execution_count": 76,
     "metadata": {},
     "output_type": "execute_result"
    }
   ],
   "source": [
    "#### Extracting MFCC's For every audio file\n",
    "import pandas as pd\n",
    "import os\n",
    "import librosa\n",
    "\n",
    "audio_dataset_path='UrbanSound8K/audio/'\n",
    "metadata=pd.read_csv('UrbanSound8K/metadata/UrbanSound8K.csv')\n",
    "metadata.head()"
   ]
  },
  {
   "cell_type": "code",
   "execution_count": 77,
   "metadata": {},
   "outputs": [],
   "source": [
    "def features_extractor(file):\n",
    "    audio, sample_rate = librosa.load(file_name, res_type='kaiser_fast') \n",
    "    mfccs_features = librosa.feature.mfcc(y=audio, sr=sample_rate, n_mfcc=40)\n",
    "    mfccs_scaled_features = np.mean(mfccs_features.T,axis=0)\n",
    "    \n",
    "    return mfccs_scaled_features"
   ]
  },
  {
   "cell_type": "code",
   "execution_count": null,
   "metadata": {},
   "outputs": [],
   "source": [
    "import numpy as np\n",
    "from tqdm import tqdm\n",
    "extracted_features=[]\n",
    "for index_num,row in tqdm(metadata.iterrows()):\n",
    "    file_name = os.path.join(os.path.abspath(audio_dataset_path),'fold'+str(row[\"fold\"])+'/',str(row[\"slice_file_name\"]))\n",
    "    final_class_labels=row[\"class\"]\n",
    "    data=features_extractor(file_name)\n",
    "    extracted_features.append([data,final_class_labels])"
   ]
  },
  {
   "cell_type": "code",
   "execution_count": 126,
   "metadata": {},
   "outputs": [
    {
     "data": {
      "text/html": [
       "<div>\n",
       "<style scoped>\n",
       "    .dataframe tbody tr th:only-of-type {\n",
       "        vertical-align: middle;\n",
       "    }\n",
       "\n",
       "    .dataframe tbody tr th {\n",
       "        vertical-align: top;\n",
       "    }\n",
       "\n",
       "    .dataframe thead th {\n",
       "        text-align: right;\n",
       "    }\n",
       "</style>\n",
       "<table border=\"1\" class=\"dataframe\">\n",
       "  <thead>\n",
       "    <tr style=\"text-align: right;\">\n",
       "      <th></th>\n",
       "      <th>feature</th>\n",
       "      <th>class</th>\n",
       "    </tr>\n",
       "  </thead>\n",
       "  <tbody>\n",
       "    <tr>\n",
       "      <th>0</th>\n",
       "      <td>[-215.79301, 71.66612, -131.81377, -52.091328,...</td>\n",
       "      <td>dog_bark</td>\n",
       "    </tr>\n",
       "    <tr>\n",
       "      <th>1</th>\n",
       "      <td>[-424.68677, 110.56227, -54.148235, 62.01073, ...</td>\n",
       "      <td>children_playing</td>\n",
       "    </tr>\n",
       "    <tr>\n",
       "      <th>2</th>\n",
       "      <td>[-459.56467, 122.800354, -47.92471, 53.265694,...</td>\n",
       "      <td>children_playing</td>\n",
       "    </tr>\n",
       "    <tr>\n",
       "      <th>3</th>\n",
       "      <td>[-414.55377, 102.896904, -36.66495, 54.18041, ...</td>\n",
       "      <td>children_playing</td>\n",
       "    </tr>\n",
       "    <tr>\n",
       "      <th>4</th>\n",
       "      <td>[-447.397, 115.0954, -53.809113, 61.608585, 1....</td>\n",
       "      <td>children_playing</td>\n",
       "    </tr>\n",
       "    <tr>\n",
       "      <th>5</th>\n",
       "      <td>[-447.70856, 118.409454, -35.248665, 56.73993,...</td>\n",
       "      <td>children_playing</td>\n",
       "    </tr>\n",
       "    <tr>\n",
       "      <th>6</th>\n",
       "      <td>[-477.1972, 120.63773, -29.692501, 57.05191, 1...</td>\n",
       "      <td>children_playing</td>\n",
       "    </tr>\n",
       "    <tr>\n",
       "      <th>7</th>\n",
       "      <td>[-464.84656, 117.71454, -30.163269, 50.72254, ...</td>\n",
       "      <td>children_playing</td>\n",
       "    </tr>\n",
       "    <tr>\n",
       "      <th>8</th>\n",
       "      <td>[-472.1215, 126.76601, -38.36653, 58.748646, -...</td>\n",
       "      <td>children_playing</td>\n",
       "    </tr>\n",
       "    <tr>\n",
       "      <th>9</th>\n",
       "      <td>[-196.18527, 114.94506, -14.661183, 1.2298628,...</td>\n",
       "      <td>car_horn</td>\n",
       "    </tr>\n",
       "    <tr>\n",
       "      <th>10</th>\n",
       "      <td>[-202.99025, 111.43653, -28.663647, 14.733859,...</td>\n",
       "      <td>car_horn</td>\n",
       "    </tr>\n",
       "    <tr>\n",
       "      <th>11</th>\n",
       "      <td>[-206.01172, 90.92227, -25.063505, 29.089556, ...</td>\n",
       "      <td>car_horn</td>\n",
       "    </tr>\n",
       "    <tr>\n",
       "      <th>12</th>\n",
       "      <td>[-204.60739, 103.6529, -29.975662, 27.412031, ...</td>\n",
       "      <td>car_horn</td>\n",
       "    </tr>\n",
       "    <tr>\n",
       "      <th>13</th>\n",
       "      <td>[-120.52772, 63.524403, -20.22668, 19.67944, -...</td>\n",
       "      <td>car_horn</td>\n",
       "    </tr>\n",
       "    <tr>\n",
       "      <th>14</th>\n",
       "      <td>[-275.89142, 101.7432, -91.016815, -4.6030293,...</td>\n",
       "      <td>dog_bark</td>\n",
       "    </tr>\n",
       "    <tr>\n",
       "      <th>15</th>\n",
       "      <td>[-294.21707, 104.33867, -98.29193, -8.635915, ...</td>\n",
       "      <td>dog_bark</td>\n",
       "    </tr>\n",
       "    <tr>\n",
       "      <th>16</th>\n",
       "      <td>[-301.5207, 105.01332, -92.563484, -10.303136,...</td>\n",
       "      <td>dog_bark</td>\n",
       "    </tr>\n",
       "    <tr>\n",
       "      <th>17</th>\n",
       "      <td>[-299.53833, 105.0457, -95.95926, -11.808135, ...</td>\n",
       "      <td>dog_bark</td>\n",
       "    </tr>\n",
       "    <tr>\n",
       "      <th>18</th>\n",
       "      <td>[-324.3294, 82.345, -77.86384, -30.830027, 12....</td>\n",
       "      <td>dog_bark</td>\n",
       "    </tr>\n",
       "    <tr>\n",
       "      <th>19</th>\n",
       "      <td>[-337.4312, 113.117546, -71.68218, -41.61323, ...</td>\n",
       "      <td>dog_bark</td>\n",
       "    </tr>\n",
       "  </tbody>\n",
       "</table>\n",
       "</div>"
      ],
      "text/plain": [
       "                                              feature             class\n",
       "0   [-215.79301, 71.66612, -131.81377, -52.091328,...          dog_bark\n",
       "1   [-424.68677, 110.56227, -54.148235, 62.01073, ...  children_playing\n",
       "2   [-459.56467, 122.800354, -47.92471, 53.265694,...  children_playing\n",
       "3   [-414.55377, 102.896904, -36.66495, 54.18041, ...  children_playing\n",
       "4   [-447.397, 115.0954, -53.809113, 61.608585, 1....  children_playing\n",
       "5   [-447.70856, 118.409454, -35.248665, 56.73993,...  children_playing\n",
       "6   [-477.1972, 120.63773, -29.692501, 57.05191, 1...  children_playing\n",
       "7   [-464.84656, 117.71454, -30.163269, 50.72254, ...  children_playing\n",
       "8   [-472.1215, 126.76601, -38.36653, 58.748646, -...  children_playing\n",
       "9   [-196.18527, 114.94506, -14.661183, 1.2298628,...          car_horn\n",
       "10  [-202.99025, 111.43653, -28.663647, 14.733859,...          car_horn\n",
       "11  [-206.01172, 90.92227, -25.063505, 29.089556, ...          car_horn\n",
       "12  [-204.60739, 103.6529, -29.975662, 27.412031, ...          car_horn\n",
       "13  [-120.52772, 63.524403, -20.22668, 19.67944, -...          car_horn\n",
       "14  [-275.89142, 101.7432, -91.016815, -4.6030293,...          dog_bark\n",
       "15  [-294.21707, 104.33867, -98.29193, -8.635915, ...          dog_bark\n",
       "16  [-301.5207, 105.01332, -92.563484, -10.303136,...          dog_bark\n",
       "17  [-299.53833, 105.0457, -95.95926, -11.808135, ...          dog_bark\n",
       "18  [-324.3294, 82.345, -77.86384, -30.830027, 12....          dog_bark\n",
       "19  [-337.4312, 113.117546, -71.68218, -41.61323, ...          dog_bark"
      ]
     },
     "execution_count": 126,
     "metadata": {},
     "output_type": "execute_result"
    }
   ],
   "source": [
    "### converting extracted_features to Pandas dataframe\n",
    "extracted_features_df=pd.DataFrame(extracted_features,columns=['feature','class'])\n",
    "extracted_features_df.head(20)"
   ]
  },
  {
   "cell_type": "markdown",
   "metadata": {},
   "source": [
    "# Train Test And Split"
   ]
  },
  {
   "cell_type": "code",
   "execution_count": 80,
   "metadata": {},
   "outputs": [],
   "source": [
    "X=np.array(extracted_features_df['feature'].tolist())\n",
    "y=np.array(extracted_features_df['class'].tolist())"
   ]
  },
  {
   "cell_type": "code",
   "execution_count": 81,
   "metadata": {},
   "outputs": [
    {
     "data": {
      "text/plain": [
       "(8732, 40)"
      ]
     },
     "execution_count": 81,
     "metadata": {},
     "output_type": "execute_result"
    }
   ],
   "source": [
    "X.shape"
   ]
  },
  {
   "cell_type": "code",
   "execution_count": 82,
   "metadata": {},
   "outputs": [
    {
     "data": {
      "text/plain": [
       "array(['dog_bark', 'children_playing', 'children_playing', ...,\n",
       "       'car_horn', 'car_horn', 'car_horn'], dtype='<U16')"
      ]
     },
     "execution_count": 82,
     "metadata": {},
     "output_type": "execute_result"
    }
   ],
   "source": [
    "y"
   ]
  },
  {
   "cell_type": "code",
   "execution_count": 83,
   "metadata": {},
   "outputs": [],
   "source": [
    "labelencoder=LabelEncoder()\n",
    "y=to_categorical(labelencoder.fit_transform(y))"
   ]
  },
  {
   "cell_type": "code",
   "execution_count": 84,
   "metadata": {},
   "outputs": [
    {
     "data": {
      "text/plain": [
       "array([[0., 0., 0., ..., 0., 0., 0.],\n",
       "       [0., 0., 1., ..., 0., 0., 0.],\n",
       "       [0., 0., 1., ..., 0., 0., 0.],\n",
       "       ...,\n",
       "       [0., 1., 0., ..., 0., 0., 0.],\n",
       "       [0., 1., 0., ..., 0., 0., 0.],\n",
       "       [0., 1., 0., ..., 0., 0., 0.]], dtype=float32)"
      ]
     },
     "execution_count": 84,
     "metadata": {},
     "output_type": "execute_result"
    }
   ],
   "source": [
    "y"
   ]
  },
  {
   "cell_type": "code",
   "execution_count": 85,
   "metadata": {},
   "outputs": [],
   "source": [
    "X_train,X_test,y_train,y_test=train_test_split(X,y,test_size=0.2,random_state=0)"
   ]
  },
  {
   "cell_type": "code",
   "execution_count": 86,
   "metadata": {},
   "outputs": [
    {
     "data": {
      "text/plain": [
       "array([[-1.3183614e+02,  1.1397464e+02, -2.3956861e+01, ...,\n",
       "         3.3314774e+00, -1.4786109e+00,  2.8736603e+00],\n",
       "       [-1.4074220e+01,  9.1916939e+01, -8.6787214e+00, ...,\n",
       "        -3.3844023e+00, -5.2119040e+00, -1.5936136e+00],\n",
       "       [-4.9532028e+01,  1.5521857e-01, -2.0369110e+01, ...,\n",
       "         2.0491767e+00, -8.0537474e-01,  2.7793026e+00],\n",
       "       ...,\n",
       "       [-4.2699332e+02,  9.2890656e+01,  3.0233388e+00, ...,\n",
       "         8.6335975e-01,  6.4766806e-01,  7.8490508e-01],\n",
       "       [-1.4607024e+02,  1.3709459e+02, -3.4298344e+01, ...,\n",
       "         1.3777870e+00, -1.9530845e+00, -8.9652133e-01],\n",
       "       [-4.2167450e+02,  2.1169032e+02,  2.6820304e+00, ...,\n",
       "        -5.1484952e+00, -3.6400862e+00, -1.3321608e+00]], dtype=float32)"
      ]
     },
     "execution_count": 86,
     "metadata": {},
     "output_type": "execute_result"
    }
   ],
   "source": [
    "X_train"
   ]
  },
  {
   "cell_type": "code",
   "execution_count": 87,
   "metadata": {},
   "outputs": [
    {
     "data": {
      "text/plain": [
       "array([[0., 0., 0., ..., 0., 0., 0.],\n",
       "       [0., 0., 1., ..., 0., 0., 0.],\n",
       "       [0., 0., 1., ..., 0., 0., 0.],\n",
       "       ...,\n",
       "       [0., 1., 0., ..., 0., 0., 0.],\n",
       "       [0., 1., 0., ..., 0., 0., 0.],\n",
       "       [0., 1., 0., ..., 0., 0., 0.]], dtype=float32)"
      ]
     },
     "execution_count": 87,
     "metadata": {},
     "output_type": "execute_result"
    }
   ],
   "source": [
    "y"
   ]
  },
  {
   "cell_type": "code",
   "execution_count": 88,
   "metadata": {},
   "outputs": [
    {
     "data": {
      "text/plain": [
       "(6985, 40)"
      ]
     },
     "execution_count": 88,
     "metadata": {},
     "output_type": "execute_result"
    }
   ],
   "source": [
    "X_train.shape"
   ]
  },
  {
   "cell_type": "code",
   "execution_count": 89,
   "metadata": {},
   "outputs": [
    {
     "data": {
      "text/plain": [
       "(1747, 40)"
      ]
     },
     "execution_count": 89,
     "metadata": {},
     "output_type": "execute_result"
    }
   ],
   "source": [
    "X_test.shape"
   ]
  },
  {
   "cell_type": "code",
   "execution_count": 90,
   "metadata": {},
   "outputs": [
    {
     "data": {
      "text/plain": [
       "(6985, 10)"
      ]
     },
     "execution_count": 90,
     "metadata": {},
     "output_type": "execute_result"
    }
   ],
   "source": [
    "y_train.shape"
   ]
  },
  {
   "cell_type": "code",
   "execution_count": 91,
   "metadata": {},
   "outputs": [
    {
     "data": {
      "text/plain": [
       "(1747, 10)"
      ]
     },
     "execution_count": 91,
     "metadata": {},
     "output_type": "execute_result"
    }
   ],
   "source": [
    "y_test.shape"
   ]
  },
  {
   "cell_type": "markdown",
   "metadata": {},
   "source": [
    "# Model "
   ]
  },
  {
   "cell_type": "code",
   "execution_count": 92,
   "metadata": {},
   "outputs": [
    {
     "name": "stdout",
     "output_type": "stream",
     "text": [
      "2.7.0\n"
     ]
    }
   ],
   "source": [
    "import tensorflow as tf\n",
    "print(tf.__version__)"
   ]
  },
  {
   "cell_type": "code",
   "execution_count": 93,
   "metadata": {},
   "outputs": [],
   "source": [
    "from tensorflow.keras.models import Sequential\n",
    "from tensorflow.keras.layers import Dense,Dropout,Activation,Flatten\n",
    "from tensorflow.keras.optimizers import Adam\n",
    "from sklearn import metrics"
   ]
  },
  {
   "cell_type": "code",
   "execution_count": 94,
   "metadata": {},
   "outputs": [],
   "source": [
    "### No of classes\n",
    "num_labels=y.shape[1]"
   ]
  },
  {
   "cell_type": "code",
   "execution_count": 95,
   "metadata": {},
   "outputs": [],
   "source": [
    "model=Sequential()\n",
    "###first layer\n",
    "model.add(Dense(256,input_shape=(40,)))\n",
    "model.add(Activation('relu'))\n",
    "model.add(Dropout(0.5))\n",
    "###second layer\n",
    "model.add(Dense(256))\n",
    "model.add(Activation('relu'))\n",
    "model.add(Dropout(0.5))\n",
    "###third layer\n",
    "model.add(Dense(256))\n",
    "model.add(Activation('relu'))\n",
    "model.add(Dropout(0.5))\n",
    "\n",
    "###final layer\n",
    "model.add(Dense(num_labels))\n",
    "model.add(Activation('softmax'))"
   ]
  },
  {
   "cell_type": "code",
   "execution_count": 96,
   "metadata": {},
   "outputs": [
    {
     "name": "stdout",
     "output_type": "stream",
     "text": [
      "Model: \"sequential_1\"\n",
      "_________________________________________________________________\n",
      " Layer (type)                Output Shape              Param #   \n",
      "=================================================================\n",
      " dense_4 (Dense)             (None, 256)               10496     \n",
      "                                                                 \n",
      " activation_4 (Activation)   (None, 256)               0         \n",
      "                                                                 \n",
      " dropout_3 (Dropout)         (None, 256)               0         \n",
      "                                                                 \n",
      " dense_5 (Dense)             (None, 256)               65792     \n",
      "                                                                 \n",
      " activation_5 (Activation)   (None, 256)               0         \n",
      "                                                                 \n",
      " dropout_4 (Dropout)         (None, 256)               0         \n",
      "                                                                 \n",
      " dense_6 (Dense)             (None, 256)               65792     \n",
      "                                                                 \n",
      " activation_6 (Activation)   (None, 256)               0         \n",
      "                                                                 \n",
      " dropout_5 (Dropout)         (None, 256)               0         \n",
      "                                                                 \n",
      " dense_7 (Dense)             (None, 10)                2570      \n",
      "                                                                 \n",
      " activation_7 (Activation)   (None, 10)                0         \n",
      "                                                                 \n",
      "=================================================================\n",
      "Total params: 144,650\n",
      "Trainable params: 144,650\n",
      "Non-trainable params: 0\n",
      "_________________________________________________________________\n"
     ]
    }
   ],
   "source": [
    "model.summary()"
   ]
  },
  {
   "cell_type": "code",
   "execution_count": 97,
   "metadata": {},
   "outputs": [],
   "source": [
    "model.compile(loss='categorical_crossentropy',metrics=['accuracy'],optimizer='adam')"
   ]
  },
  {
   "cell_type": "code",
   "execution_count": 98,
   "metadata": {},
   "outputs": [
    {
     "name": "stdout",
     "output_type": "stream",
     "text": [
      "Epoch 1/100\n",
      "206/219 [===========================>..] - ETA: 0s - loss: 8.3978 - accuracy: 0.1402\n",
      "Epoch 00001: val_loss improved from inf to 2.18235, saving model to saved_models\\audio_classification.hdf5\n",
      "219/219 [==============================] - 2s 6ms/step - loss: 8.0870 - accuracy: 0.1423 - val_loss: 2.1824 - val_accuracy: 0.2318\n",
      "Epoch 2/100\n",
      "219/219 [==============================] - ETA: 0s - loss: 2.4794 - accuracy: 0.1798\n",
      "Epoch 00002: val_loss improved from 2.18235 to 2.12459, saving model to saved_models\\audio_classification.hdf5\n",
      "219/219 [==============================] - 1s 7ms/step - loss: 2.4794 - accuracy: 0.1798 - val_loss: 2.1246 - val_accuracy: 0.2444\n",
      "Epoch 3/100\n",
      "215/219 [============================>.] - ETA: 0s - loss: 2.1567 - accuracy: 0.2347\n",
      "Epoch 00003: val_loss improved from 2.12459 to 1.94510, saving model to saved_models\\audio_classification.hdf5\n",
      "219/219 [==============================] - 2s 10ms/step - loss: 2.1552 - accuracy: 0.2346 - val_loss: 1.9451 - val_accuracy: 0.3417\n",
      "Epoch 4/100\n",
      "218/219 [============================>.] - ETA: 0s - loss: 2.0269 - accuracy: 0.2726\n",
      "Epoch 00004: val_loss improved from 1.94510 to 1.87831, saving model to saved_models\\audio_classification.hdf5\n",
      "219/219 [==============================] - 2s 8ms/step - loss: 2.0278 - accuracy: 0.2724 - val_loss: 1.8783 - val_accuracy: 0.3755\n",
      "Epoch 5/100\n",
      "219/219 [==============================] - ETA: 0s - loss: 1.8936 - accuracy: 0.3187\n",
      "Epoch 00005: val_loss improved from 1.87831 to 1.73135, saving model to saved_models\\audio_classification.hdf5\n",
      "219/219 [==============================] - 2s 9ms/step - loss: 1.8936 - accuracy: 0.3187 - val_loss: 1.7314 - val_accuracy: 0.4367\n",
      "Epoch 6/100\n",
      "218/219 [============================>.] - ETA: 0s - loss: 1.7963 - accuracy: 0.3597\n",
      "Epoch 00006: val_loss improved from 1.73135 to 1.62078, saving model to saved_models\\audio_classification.hdf5\n",
      "219/219 [==============================] - 2s 11ms/step - loss: 1.7976 - accuracy: 0.3596 - val_loss: 1.6208 - val_accuracy: 0.4677\n",
      "Epoch 7/100\n",
      "218/219 [============================>.] - ETA: 0s - loss: 1.6971 - accuracy: 0.4080\n",
      "Epoch 00007: val_loss improved from 1.62078 to 1.51392, saving model to saved_models\\audio_classification.hdf5\n",
      "219/219 [==============================] - 2s 11ms/step - loss: 1.6965 - accuracy: 0.4080 - val_loss: 1.5139 - val_accuracy: 0.5421\n",
      "Epoch 8/100\n",
      "218/219 [============================>.] - ETA: 0s - loss: 1.6112 - accuracy: 0.4365\n",
      "Epoch 00008: val_loss improved from 1.51392 to 1.42135, saving model to saved_models\\audio_classification.hdf5\n",
      "219/219 [==============================] - 2s 10ms/step - loss: 1.6112 - accuracy: 0.4365 - val_loss: 1.4214 - val_accuracy: 0.5455\n",
      "Epoch 9/100\n",
      "213/219 [============================>.] - ETA: 0s - loss: 1.5428 - accuracy: 0.4646\n",
      "Epoch 00009: val_loss improved from 1.42135 to 1.36849, saving model to saved_models\\audio_classification.hdf5\n",
      "219/219 [==============================] - 2s 11ms/step - loss: 1.5429 - accuracy: 0.4636 - val_loss: 1.3685 - val_accuracy: 0.5644\n",
      "Epoch 10/100\n",
      "213/219 [============================>.] - ETA: 0s - loss: 1.4912 - accuracy: 0.4915\n",
      "Epoch 00010: val_loss improved from 1.36849 to 1.26684, saving model to saved_models\\audio_classification.hdf5\n",
      "219/219 [==============================] - 2s 10ms/step - loss: 1.4887 - accuracy: 0.4933 - val_loss: 1.2668 - val_accuracy: 0.6062\n",
      "Epoch 11/100\n",
      "212/219 [============================>.] - ETA: 0s - loss: 1.4202 - accuracy: 0.5304\n",
      "Epoch 00011: val_loss improved from 1.26684 to 1.22773, saving model to saved_models\\audio_classification.hdf5\n",
      "219/219 [==============================] - 1s 5ms/step - loss: 1.4188 - accuracy: 0.5310 - val_loss: 1.2277 - val_accuracy: 0.6148\n",
      "Epoch 12/100\n",
      "219/219 [==============================] - ETA: 0s - loss: 1.3712 - accuracy: 0.5369\n",
      "Epoch 00012: val_loss improved from 1.22773 to 1.17655, saving model to saved_models\\audio_classification.hdf5\n",
      "219/219 [==============================] - 2s 8ms/step - loss: 1.3712 - accuracy: 0.5369 - val_loss: 1.1765 - val_accuracy: 0.6222\n",
      "Epoch 13/100\n",
      "219/219 [==============================] - ETA: 0s - loss: 1.3143 - accuracy: 0.5602\n",
      "Epoch 00013: val_loss improved from 1.17655 to 1.12317, saving model to saved_models\\audio_classification.hdf5\n",
      "219/219 [==============================] - 2s 10ms/step - loss: 1.3143 - accuracy: 0.5602 - val_loss: 1.1232 - val_accuracy: 0.6497\n",
      "Epoch 14/100\n",
      "218/219 [============================>.] - ETA: 0s - loss: 1.2808 - accuracy: 0.5691\n",
      "Epoch 00014: val_loss improved from 1.12317 to 1.07974, saving model to saved_models\\audio_classification.hdf5\n",
      "219/219 [==============================] - 2s 10ms/step - loss: 1.2804 - accuracy: 0.5694 - val_loss: 1.0797 - val_accuracy: 0.6428\n",
      "Epoch 15/100\n",
      "215/219 [============================>.] - ETA: 0s - loss: 1.2494 - accuracy: 0.5807\n",
      "Epoch 00015: val_loss improved from 1.07974 to 1.04339, saving model to saved_models\\audio_classification.hdf5\n",
      "219/219 [==============================] - 2s 10ms/step - loss: 1.2475 - accuracy: 0.5814 - val_loss: 1.0434 - val_accuracy: 0.6617\n",
      "Epoch 16/100\n",
      "215/219 [============================>.] - ETA: 0s - loss: 1.1807 - accuracy: 0.6086\n",
      "Epoch 00016: val_loss improved from 1.04339 to 1.01144, saving model to saved_models\\audio_classification.hdf5\n",
      "219/219 [==============================] - 2s 10ms/step - loss: 1.1818 - accuracy: 0.6079 - val_loss: 1.0114 - val_accuracy: 0.6749\n",
      "Epoch 17/100\n",
      "217/219 [============================>.] - ETA: 0s - loss: 1.1733 - accuracy: 0.6087\n",
      "Epoch 00017: val_loss improved from 1.01144 to 0.99351, saving model to saved_models\\audio_classification.hdf5\n",
      "219/219 [==============================] - 2s 9ms/step - loss: 1.1717 - accuracy: 0.6093 - val_loss: 0.9935 - val_accuracy: 0.6840\n",
      "Epoch 18/100\n",
      "217/219 [============================>.] - ETA: 0s - loss: 1.1360 - accuracy: 0.6099\n",
      "Epoch 00018: val_loss improved from 0.99351 to 0.95541, saving model to saved_models\\audio_classification.hdf5\n",
      "219/219 [==============================] - 2s 9ms/step - loss: 1.1354 - accuracy: 0.6100 - val_loss: 0.9554 - val_accuracy: 0.7001\n",
      "Epoch 19/100\n",
      "216/219 [============================>.] - ETA: 0s - loss: 1.1178 - accuracy: 0.6269\n",
      "Epoch 00019: val_loss improved from 0.95541 to 0.93459, saving model to saved_models\\audio_classification.hdf5\n",
      "219/219 [==============================] - 2s 9ms/step - loss: 1.1176 - accuracy: 0.6271 - val_loss: 0.9346 - val_accuracy: 0.7109\n",
      "Epoch 20/100\n",
      "214/219 [============================>.] - ETA: 0s - loss: 1.0816 - accuracy: 0.6431\n",
      "Epoch 00020: val_loss improved from 0.93459 to 0.89652, saving model to saved_models\\audio_classification.hdf5\n",
      "219/219 [==============================] - 2s 10ms/step - loss: 1.0841 - accuracy: 0.6432 - val_loss: 0.8965 - val_accuracy: 0.7247\n",
      "Epoch 21/100\n",
      "215/219 [============================>.] - ETA: 0s - loss: 1.0670 - accuracy: 0.6423\n",
      "Epoch 00021: val_loss improved from 0.89652 to 0.87874, saving model to saved_models\\audio_classification.hdf5\n",
      "219/219 [==============================] - 3s 12ms/step - loss: 1.0669 - accuracy: 0.6424 - val_loss: 0.8787 - val_accuracy: 0.7218\n",
      "Epoch 22/100\n",
      "219/219 [==============================] - ETA: 0s - loss: 1.0419 - accuracy: 0.6492\n",
      "Epoch 00022: val_loss improved from 0.87874 to 0.84487, saving model to saved_models\\audio_classification.hdf5\n",
      "219/219 [==============================] - 2s 11ms/step - loss: 1.0419 - accuracy: 0.6492 - val_loss: 0.8449 - val_accuracy: 0.7178\n",
      "Epoch 23/100\n",
      "218/219 [============================>.] - ETA: 0s - loss: 1.0280 - accuracy: 0.6626\n",
      "Epoch 00023: val_loss did not improve from 0.84487\n",
      "219/219 [==============================] - 2s 9ms/step - loss: 1.0287 - accuracy: 0.6624 - val_loss: 0.8721 - val_accuracy: 0.7264\n",
      "Epoch 24/100\n",
      "213/219 [============================>.] - ETA: 0s - loss: 0.9900 - accuracy: 0.6749\n",
      "Epoch 00024: val_loss improved from 0.84487 to 0.82967, saving model to saved_models\\audio_classification.hdf5\n",
      "219/219 [==============================] - 2s 9ms/step - loss: 0.9893 - accuracy: 0.6742 - val_loss: 0.8297 - val_accuracy: 0.7310\n",
      "Epoch 25/100\n",
      "219/219 [==============================] - ETA: 0s - loss: 0.9969 - accuracy: 0.6722\n",
      "Epoch 00025: val_loss improved from 0.82967 to 0.80299, saving model to saved_models\\audio_classification.hdf5\n",
      "219/219 [==============================] - 2s 8ms/step - loss: 0.9969 - accuracy: 0.6722 - val_loss: 0.8030 - val_accuracy: 0.7470\n",
      "Epoch 26/100\n",
      "216/219 [============================>.] - ETA: 0s - loss: 0.9582 - accuracy: 0.6817\n",
      "Epoch 00026: val_loss improved from 0.80299 to 0.78735, saving model to saved_models\\audio_classification.hdf5\n",
      "219/219 [==============================] - 2s 8ms/step - loss: 0.9601 - accuracy: 0.6819 - val_loss: 0.7874 - val_accuracy: 0.7396\n",
      "Epoch 27/100\n",
      "217/219 [============================>.] - ETA: 0s - loss: 0.9429 - accuracy: 0.6849\n",
      "Epoch 00027: val_loss improved from 0.78735 to 0.76546, saving model to saved_models\\audio_classification.hdf5\n",
      "219/219 [==============================] - 2s 7ms/step - loss: 0.9456 - accuracy: 0.6843 - val_loss: 0.7655 - val_accuracy: 0.7624\n",
      "Epoch 28/100\n",
      "217/219 [============================>.] - ETA: 0s - loss: 0.9269 - accuracy: 0.6967\n",
      "Epoch 00028: val_loss improved from 0.76546 to 0.75499, saving model to saved_models\\audio_classification.hdf5\n",
      "219/219 [==============================] - 2s 9ms/step - loss: 0.9271 - accuracy: 0.6965 - val_loss: 0.7550 - val_accuracy: 0.7539\n",
      "Epoch 29/100\n",
      "218/219 [============================>.] - ETA: 0s - loss: 0.9043 - accuracy: 0.6997\n",
      "Epoch 00029: val_loss did not improve from 0.75499\n",
      "219/219 [==============================] - 2s 10ms/step - loss: 0.9038 - accuracy: 0.6996 - val_loss: 0.7601 - val_accuracy: 0.7533\n",
      "Epoch 30/100\n",
      "215/219 [============================>.] - ETA: 0s - loss: 0.9212 - accuracy: 0.6945\n",
      "Epoch 00030: val_loss improved from 0.75499 to 0.72852, saving model to saved_models\\audio_classification.hdf5\n",
      "219/219 [==============================] - 3s 12ms/step - loss: 0.9172 - accuracy: 0.6956 - val_loss: 0.7285 - val_accuracy: 0.7682\n",
      "Epoch 31/100\n",
      "216/219 [============================>.] - ETA: 0s - loss: 0.8787 - accuracy: 0.7041\n",
      "Epoch 00031: val_loss improved from 0.72852 to 0.72592, saving model to saved_models\\audio_classification.hdf5\n",
      "219/219 [==============================] - 2s 11ms/step - loss: 0.8823 - accuracy: 0.7029 - val_loss: 0.7259 - val_accuracy: 0.7733\n",
      "Epoch 32/100\n",
      "218/219 [============================>.] - ETA: 0s - loss: 0.8817 - accuracy: 0.7103\n",
      "Epoch 00032: val_loss improved from 0.72592 to 0.69723, saving model to saved_models\\audio_classification.hdf5\n",
      "219/219 [==============================] - 2s 7ms/step - loss: 0.8812 - accuracy: 0.7105 - val_loss: 0.6972 - val_accuracy: 0.7682\n",
      "Epoch 33/100\n",
      "214/219 [============================>.] - ETA: 0s - loss: 0.8803 - accuracy: 0.7158\n",
      "Epoch 00033: val_loss did not improve from 0.69723\n",
      "219/219 [==============================] - 2s 8ms/step - loss: 0.8798 - accuracy: 0.7154 - val_loss: 0.7090 - val_accuracy: 0.7790\n",
      "Epoch 34/100\n",
      "217/219 [============================>.] - ETA: 0s - loss: 0.8625 - accuracy: 0.7193\n",
      "Epoch 00034: val_loss improved from 0.69723 to 0.69391, saving model to saved_models\\audio_classification.hdf5\n",
      "219/219 [==============================] - 3s 11ms/step - loss: 0.8628 - accuracy: 0.7194 - val_loss: 0.6939 - val_accuracy: 0.7848\n",
      "Epoch 35/100\n",
      "217/219 [============================>.] - ETA: 0s - loss: 0.8809 - accuracy: 0.7160\n",
      "Epoch 00035: val_loss improved from 0.69391 to 0.69303, saving model to saved_models\\audio_classification.hdf5\n",
      "219/219 [==============================] - 2s 11ms/step - loss: 0.8801 - accuracy: 0.7161 - val_loss: 0.6930 - val_accuracy: 0.7876\n",
      "Epoch 36/100\n",
      "216/219 [============================>.] - ETA: 0s - loss: 0.8505 - accuracy: 0.7153\n",
      "Epoch 00036: val_loss improved from 0.69303 to 0.67004, saving model to saved_models\\audio_classification.hdf5\n",
      "219/219 [==============================] - 2s 10ms/step - loss: 0.8506 - accuracy: 0.7157 - val_loss: 0.6700 - val_accuracy: 0.7888\n",
      "Epoch 37/100\n",
      "211/219 [===========================>..] - ETA: 0s - loss: 0.8242 - accuracy: 0.7284\n",
      "Epoch 00037: val_loss improved from 0.67004 to 0.66425, saving model to saved_models\\audio_classification.hdf5\n",
      "219/219 [==============================] - 1s 6ms/step - loss: 0.8193 - accuracy: 0.7300 - val_loss: 0.6643 - val_accuracy: 0.7945\n",
      "Epoch 38/100\n",
      "214/219 [============================>.] - ETA: 0s - loss: 0.8293 - accuracy: 0.7288\n",
      "Epoch 00038: val_loss improved from 0.66425 to 0.66133, saving model to saved_models\\audio_classification.hdf5\n",
      "219/219 [==============================] - 2s 10ms/step - loss: 0.8293 - accuracy: 0.7293 - val_loss: 0.6613 - val_accuracy: 0.8037\n",
      "Epoch 39/100\n",
      "217/219 [============================>.] - ETA: 0s - loss: 0.8059 - accuracy: 0.7368\n",
      "Epoch 00039: val_loss improved from 0.66133 to 0.65431, saving model to saved_models\\audio_classification.hdf5\n",
      "219/219 [==============================] - 2s 11ms/step - loss: 0.8107 - accuracy: 0.7350 - val_loss: 0.6543 - val_accuracy: 0.8008\n",
      "Epoch 40/100\n",
      "215/219 [============================>.] - ETA: 0s - loss: 0.8162 - accuracy: 0.7327\n",
      "Epoch 00040: val_loss improved from 0.65431 to 0.65215, saving model to saved_models\\audio_classification.hdf5\n",
      "219/219 [==============================] - 3s 12ms/step - loss: 0.8142 - accuracy: 0.7333 - val_loss: 0.6522 - val_accuracy: 0.8002\n",
      "Epoch 41/100\n",
      "214/219 [============================>.] - ETA: 0s - loss: 0.8037 - accuracy: 0.7385\n",
      "Epoch 00041: val_loss improved from 0.65215 to 0.64390, saving model to saved_models\\audio_classification.hdf5\n",
      "219/219 [==============================] - 2s 11ms/step - loss: 0.8040 - accuracy: 0.7379 - val_loss: 0.6439 - val_accuracy: 0.8122\n",
      "Epoch 42/100\n",
      "216/219 [============================>.] - ETA: 0s - loss: 0.7906 - accuracy: 0.7389\n",
      "Epoch 00042: val_loss improved from 0.64390 to 0.63927, saving model to saved_models\\audio_classification.hdf5\n",
      "219/219 [==============================] - 2s 10ms/step - loss: 0.7915 - accuracy: 0.7384 - val_loss: 0.6393 - val_accuracy: 0.8163\n",
      "Epoch 43/100\n",
      "216/219 [============================>.] - ETA: 0s - loss: 0.7765 - accuracy: 0.7420\n",
      "Epoch 00043: val_loss improved from 0.63927 to 0.63869, saving model to saved_models\\audio_classification.hdf5\n",
      "219/219 [==============================] - 2s 10ms/step - loss: 0.7750 - accuracy: 0.7424 - val_loss: 0.6387 - val_accuracy: 0.8025\n",
      "Epoch 44/100\n",
      "217/219 [============================>.] - ETA: 0s - loss: 0.7885 - accuracy: 0.7467 ETA: 0s - loss:\n",
      "Epoch 00044: val_loss improved from 0.63869 to 0.63689, saving model to saved_models\\audio_classification.hdf5\n",
      "219/219 [==============================] - 2s 11ms/step - loss: 0.7881 - accuracy: 0.7466 - val_loss: 0.6369 - val_accuracy: 0.8117\n",
      "Epoch 45/100\n",
      "219/219 [==============================] - ETA: 0s - loss: 0.7662 - accuracy: 0.7433\n",
      "Epoch 00045: val_loss improved from 0.63689 to 0.61901, saving model to saved_models\\audio_classification.hdf5\n",
      "219/219 [==============================] - 3s 12ms/step - loss: 0.7662 - accuracy: 0.7433 - val_loss: 0.6190 - val_accuracy: 0.8100\n",
      "Epoch 46/100\n",
      "218/219 [============================>.] - ETA: 0s - loss: 0.7638 - accuracy: 0.7494\n",
      "Epoch 00046: val_loss improved from 0.61901 to 0.61435, saving model to saved_models\\audio_classification.hdf5\n",
      "219/219 [==============================] - 2s 10ms/step - loss: 0.7633 - accuracy: 0.7497 - val_loss: 0.6143 - val_accuracy: 0.8082\n",
      "Epoch 47/100\n",
      "217/219 [============================>.] - ETA: 0s - loss: 0.7642 - accuracy: 0.7535\n",
      "Epoch 00047: val_loss improved from 0.61435 to 0.59984, saving model to saved_models\\audio_classification.hdf5\n",
      "219/219 [==============================] - 2s 9ms/step - loss: 0.7646 - accuracy: 0.7532 - val_loss: 0.5998 - val_accuracy: 0.8088\n",
      "Epoch 48/100\n",
      "213/219 [============================>.] - ETA: 0s - loss: 0.7694 - accuracy: 0.7487\n",
      "Epoch 00048: val_loss did not improve from 0.59984\n",
      "219/219 [==============================] - 2s 8ms/step - loss: 0.7684 - accuracy: 0.7485 - val_loss: 0.6020 - val_accuracy: 0.8271\n",
      "Epoch 49/100\n",
      "213/219 [============================>.] - ETA: 0s - loss: 0.7454 - accuracy: 0.7573\n",
      "Epoch 00049: val_loss did not improve from 0.59984\n",
      "219/219 [==============================] - 2s 8ms/step - loss: 0.7449 - accuracy: 0.7573 - val_loss: 0.6175 - val_accuracy: 0.8105\n",
      "Epoch 50/100\n",
      "215/219 [============================>.] - ETA: 0s - loss: 0.7409 - accuracy: 0.7590\n",
      "Epoch 00050: val_loss improved from 0.59984 to 0.58352, saving model to saved_models\\audio_classification.hdf5\n",
      "219/219 [==============================] - 2s 8ms/step - loss: 0.7407 - accuracy: 0.7589 - val_loss: 0.5835 - val_accuracy: 0.8220\n",
      "Epoch 51/100\n",
      "218/219 [============================>.] - ETA: 0s - loss: 0.7578 - accuracy: 0.7547\n",
      "Epoch 00051: val_loss did not improve from 0.58352\n",
      "219/219 [==============================] - 2s 8ms/step - loss: 0.7584 - accuracy: 0.7546 - val_loss: 0.5979 - val_accuracy: 0.8134\n",
      "Epoch 52/100\n",
      "219/219 [==============================] - ETA: 0s - loss: 0.7409 - accuracy: 0.7558\n",
      "Epoch 00052: val_loss did not improve from 0.58352\n",
      "219/219 [==============================] - 1s 5ms/step - loss: 0.7409 - accuracy: 0.7558 - val_loss: 0.5938 - val_accuracy: 0.8191\n",
      "Epoch 53/100\n",
      "215/219 [============================>.] - ETA: 0s - loss: 0.7341 - accuracy: 0.7531\n",
      "Epoch 00053: val_loss did not improve from 0.58352\n",
      "219/219 [==============================] - 2s 7ms/step - loss: 0.7349 - accuracy: 0.7528 - val_loss: 0.5914 - val_accuracy: 0.8180\n",
      "Epoch 54/100\n",
      "215/219 [============================>.] - ETA: 0s - loss: 0.7369 - accuracy: 0.7567\n",
      "Epoch 00054: val_loss improved from 0.58352 to 0.56189, saving model to saved_models\\audio_classification.hdf5\n",
      "219/219 [==============================] - 2s 10ms/step - loss: 0.7350 - accuracy: 0.7575 - val_loss: 0.5619 - val_accuracy: 0.8311\n",
      "Epoch 55/100\n",
      "218/219 [============================>.] - ETA: 0s - loss: 0.7300 - accuracy: 0.7587\n",
      "Epoch 00055: val_loss did not improve from 0.56189\n",
      "219/219 [==============================] - 2s 10ms/step - loss: 0.7304 - accuracy: 0.7586 - val_loss: 0.5690 - val_accuracy: 0.8231\n",
      "Epoch 56/100\n",
      "219/219 [==============================] - ETA: 0s - loss: 0.7259 - accuracy: 0.7644\n",
      "Epoch 00056: val_loss did not improve from 0.56189\n",
      "219/219 [==============================] - 2s 8ms/step - loss: 0.7259 - accuracy: 0.7644 - val_loss: 0.5936 - val_accuracy: 0.8226\n",
      "Epoch 57/100\n",
      "212/219 [============================>.] - ETA: 0s - loss: 0.7450 - accuracy: 0.7566\n",
      "Epoch 00057: val_loss did not improve from 0.56189\n",
      "219/219 [==============================] - 1s 7ms/step - loss: 0.7505 - accuracy: 0.7542 - val_loss: 0.5761 - val_accuracy: 0.8277\n",
      "Epoch 58/100\n",
      "217/219 [============================>.] - ETA: 0s - loss: 0.7179 - accuracy: 0.7722\n",
      "Epoch 00058: val_loss improved from 0.56189 to 0.55811, saving model to saved_models\\audio_classification.hdf5\n",
      "219/219 [==============================] - 2s 7ms/step - loss: 0.7193 - accuracy: 0.7718 - val_loss: 0.5581 - val_accuracy: 0.8340\n",
      "Epoch 59/100\n",
      "217/219 [============================>.] - ETA: 0s - loss: 0.7227 - accuracy: 0.7594\n",
      "Epoch 00059: val_loss did not improve from 0.55811\n",
      "219/219 [==============================] - 2s 7ms/step - loss: 0.7219 - accuracy: 0.7596 - val_loss: 0.5825 - val_accuracy: 0.8197\n",
      "Epoch 60/100\n",
      "218/219 [============================>.] - ETA: 0s - loss: 0.7068 - accuracy: 0.7658\n",
      "Epoch 00060: val_loss did not improve from 0.55811\n",
      "219/219 [==============================] - 2s 9ms/step - loss: 0.7071 - accuracy: 0.7658 - val_loss: 0.5711 - val_accuracy: 0.8180\n",
      "Epoch 61/100\n",
      "215/219 [============================>.] - ETA: 0s - loss: 0.7215 - accuracy: 0.7605\n",
      "Epoch 00061: val_loss did not improve from 0.55811\n",
      "219/219 [==============================] - 2s 10ms/step - loss: 0.7205 - accuracy: 0.7611 - val_loss: 0.5700 - val_accuracy: 0.8329\n",
      "Epoch 62/100\n",
      "214/219 [============================>.] - ETA: 0s - loss: 0.7068 - accuracy: 0.7691\n",
      "Epoch 00062: val_loss did not improve from 0.55811\n",
      "219/219 [==============================] - 2s 10ms/step - loss: 0.7091 - accuracy: 0.7689 - val_loss: 0.5793 - val_accuracy: 0.8283\n",
      "Epoch 63/100\n",
      "214/219 [============================>.] - ETA: 0s - loss: 0.6962 - accuracy: 0.7814\n",
      "Epoch 00063: val_loss did not improve from 0.55811\n",
      "219/219 [==============================] - 2s 9ms/step - loss: 0.6966 - accuracy: 0.7805 - val_loss: 0.5602 - val_accuracy: 0.8288\n",
      "Epoch 64/100\n",
      "217/219 [============================>.] - ETA: 0s - loss: 0.6990 - accuracy: 0.7693\n",
      "Epoch 00064: val_loss improved from 0.55811 to 0.54890, saving model to saved_models\\audio_classification.hdf5\n",
      "219/219 [==============================] - 2s 10ms/step - loss: 0.6977 - accuracy: 0.7698 - val_loss: 0.5489 - val_accuracy: 0.8283\n",
      "Epoch 65/100\n",
      "213/219 [============================>.] - ETA: 0s - loss: 0.6853 - accuracy: 0.7748\n",
      "Epoch 00065: val_loss did not improve from 0.54890\n",
      "219/219 [==============================] - 2s 8ms/step - loss: 0.6851 - accuracy: 0.7748 - val_loss: 0.5621 - val_accuracy: 0.8288\n",
      "Epoch 66/100\n",
      "216/219 [============================>.] - ETA: 0s - loss: 0.6923 - accuracy: 0.7753\n",
      "Epoch 00066: val_loss improved from 0.54890 to 0.53913, saving model to saved_models\\audio_classification.hdf5\n",
      "219/219 [==============================] - 2s 10ms/step - loss: 0.6914 - accuracy: 0.7755 - val_loss: 0.5391 - val_accuracy: 0.8403\n",
      "Epoch 67/100\n",
      "218/219 [============================>.] - ETA: 0s - loss: 0.6878 - accuracy: 0.7787\n",
      "Epoch 00067: val_loss improved from 0.53913 to 0.53619, saving model to saved_models\\audio_classification.hdf5\n",
      "219/219 [==============================] - 2s 11ms/step - loss: 0.6874 - accuracy: 0.7788 - val_loss: 0.5362 - val_accuracy: 0.8386\n",
      "Epoch 68/100\n",
      "217/219 [============================>.] - ETA: 0s - loss: 0.6804 - accuracy: 0.7764\n",
      "Epoch 00068: val_loss did not improve from 0.53619\n",
      "219/219 [==============================] - 2s 10ms/step - loss: 0.6801 - accuracy: 0.7765 - val_loss: 0.5431 - val_accuracy: 0.8334\n",
      "Epoch 69/100\n",
      "214/219 [============================>.] - ETA: 0s - loss: 0.6781 - accuracy: 0.7808 ETA: 0s - l\n",
      "Epoch 00069: val_loss did not improve from 0.53619\n",
      "219/219 [==============================] - 2s 10ms/step - loss: 0.6759 - accuracy: 0.7811 - val_loss: 0.5490 - val_accuracy: 0.8380\n",
      "Epoch 70/100\n",
      "218/219 [============================>.] - ETA: 0s - loss: 0.6853 - accuracy: 0.7815 ETA: 0s - loss: 0.6\n",
      "Epoch 00070: val_loss did not improve from 0.53619\n",
      "219/219 [==============================] - 2s 8ms/step - loss: 0.6854 - accuracy: 0.7815 - val_loss: 0.5683 - val_accuracy: 0.8363\n",
      "Epoch 71/100\n",
      "211/219 [===========================>..] - ETA: 0s - loss: 0.6680 - accuracy: 0.7767\n",
      "Epoch 00071: val_loss did not improve from 0.53619\n",
      "219/219 [==============================] - 1s 7ms/step - loss: 0.6648 - accuracy: 0.7780 - val_loss: 0.5618 - val_accuracy: 0.8300\n",
      "Epoch 72/100\n",
      "212/219 [============================>.] - ETA: 0s - loss: 0.6680 - accuracy: 0.7846\n",
      "Epoch 00072: val_loss did not improve from 0.53619\n",
      "219/219 [==============================] - 1s 6ms/step - loss: 0.6685 - accuracy: 0.7841 - val_loss: 0.5420 - val_accuracy: 0.8380\n",
      "Epoch 73/100\n",
      "213/219 [============================>.] - ETA: 0s - loss: 0.6822 - accuracy: 0.7777\n",
      "Epoch 00073: val_loss did not improve from 0.53619\n",
      "219/219 [==============================] - 2s 9ms/step - loss: 0.6791 - accuracy: 0.7782 - val_loss: 0.5469 - val_accuracy: 0.8294\n",
      "Epoch 74/100\n",
      "214/219 [============================>.] - ETA: 0s - loss: 0.6490 - accuracy: 0.7804\n",
      "Epoch 00074: val_loss did not improve from 0.53619\n",
      "219/219 [==============================] - 2s 9ms/step - loss: 0.6498 - accuracy: 0.7810 - val_loss: 0.5439 - val_accuracy: 0.8323\n",
      "Epoch 75/100\n",
      "214/219 [============================>.] - ETA: 0s - loss: 0.6759 - accuracy: 0.7810\n",
      "Epoch 00075: val_loss did not improve from 0.53619\n",
      "219/219 [==============================] - 2s 8ms/step - loss: 0.6767 - accuracy: 0.7800 - val_loss: 0.5643 - val_accuracy: 0.8300\n",
      "Epoch 76/100\n",
      "215/219 [============================>.] - ETA: 0s - loss: 0.6628 - accuracy: 0.7837\n",
      "Epoch 00076: val_loss did not improve from 0.53619\n",
      "219/219 [==============================] - 2s 8ms/step - loss: 0.6605 - accuracy: 0.7841 - val_loss: 0.5460 - val_accuracy: 0.8329\n",
      "Epoch 77/100\n",
      "215/219 [============================>.] - ETA: 0s - loss: 0.6586 - accuracy: 0.7834\n",
      "Epoch 00077: val_loss did not improve from 0.53619\n",
      "219/219 [==============================] - 2s 8ms/step - loss: 0.6623 - accuracy: 0.7818 - val_loss: 0.5407 - val_accuracy: 0.8386\n",
      "Epoch 78/100\n",
      "218/219 [============================>.] - ETA: 0s - loss: 0.6757 - accuracy: 0.7792\n",
      "Epoch 00078: val_loss improved from 0.53619 to 0.52924, saving model to saved_models\\audio_classification.hdf5\n",
      "219/219 [==============================] - 2s 9ms/step - loss: 0.6754 - accuracy: 0.7794 - val_loss: 0.5292 - val_accuracy: 0.8472\n",
      "Epoch 79/100\n",
      "217/219 [============================>.] - ETA: 0s - loss: 0.6551 - accuracy: 0.7860\n",
      "Epoch 00079: val_loss improved from 0.52924 to 0.52560, saving model to saved_models\\audio_classification.hdf5\n",
      "219/219 [==============================] - 2s 11ms/step - loss: 0.6564 - accuracy: 0.7857 - val_loss: 0.5256 - val_accuracy: 0.8409\n",
      "Epoch 80/100\n",
      "214/219 [============================>.] - ETA: 0s - loss: 0.6674 - accuracy: 0.7865\n",
      "Epoch 00080: val_loss improved from 0.52560 to 0.51980, saving model to saved_models\\audio_classification.hdf5\n",
      "219/219 [==============================] - 2s 10ms/step - loss: 0.6656 - accuracy: 0.7863 - val_loss: 0.5198 - val_accuracy: 0.8420\n",
      "Epoch 81/100\n",
      "216/219 [============================>.] - ETA: 0s - loss: 0.6565 - accuracy: 0.7896\n",
      "Epoch 00081: val_loss did not improve from 0.51980\n",
      "219/219 [==============================] - 2s 9ms/step - loss: 0.6551 - accuracy: 0.7901 - val_loss: 0.5435 - val_accuracy: 0.8369\n",
      "Epoch 82/100\n",
      "217/219 [============================>.] - ETA: 0s - loss: 0.6265 - accuracy: 0.7915\n",
      "Epoch 00082: val_loss improved from 0.51980 to 0.51377, saving model to saved_models\\audio_classification.hdf5\n",
      "219/219 [==============================] - 2s 8ms/step - loss: 0.6268 - accuracy: 0.7914 - val_loss: 0.5138 - val_accuracy: 0.8523\n",
      "Epoch 83/100\n",
      "216/219 [============================>.] - ETA: 0s - loss: 0.6229 - accuracy: 0.8006\n",
      "Epoch 00083: val_loss did not improve from 0.51377\n",
      "219/219 [==============================] - 1s 7ms/step - loss: 0.6234 - accuracy: 0.8006 - val_loss: 0.5265 - val_accuracy: 0.8437\n",
      "Epoch 84/100\n",
      "217/219 [============================>.] - ETA: 0s - loss: 0.6646 - accuracy: 0.7922\n",
      "Epoch 00084: val_loss did not improve from 0.51377\n",
      "219/219 [==============================] - 1s 7ms/step - loss: 0.6662 - accuracy: 0.7917 - val_loss: 0.5333 - val_accuracy: 0.8369\n",
      "Epoch 85/100\n",
      "217/219 [============================>.] - ETA: 0s - loss: 0.6534 - accuracy: 0.7856\n",
      "Epoch 00085: val_loss did not improve from 0.51377\n",
      "219/219 [==============================] - 1s 7ms/step - loss: 0.6557 - accuracy: 0.7850 - val_loss: 0.5456 - val_accuracy: 0.8340\n",
      "Epoch 86/100\n",
      "214/219 [============================>.] - ETA: 0s - loss: 0.6406 - accuracy: 0.7897\n",
      "Epoch 00086: val_loss did not improve from 0.51377\n",
      "219/219 [==============================] - 1s 6ms/step - loss: 0.6384 - accuracy: 0.7904 - val_loss: 0.5238 - val_accuracy: 0.8363\n",
      "Epoch 87/100\n",
      "211/219 [===========================>..] - ETA: 0s - loss: 0.6522 - accuracy: 0.7887\n",
      "Epoch 00087: val_loss improved from 0.51377 to 0.51373, saving model to saved_models\\audio_classification.hdf5\n",
      "219/219 [==============================] - 1s 6ms/step - loss: 0.6492 - accuracy: 0.7897 - val_loss: 0.5137 - val_accuracy: 0.8546\n",
      "Epoch 88/100\n",
      "216/219 [============================>.] - ETA: 0s - loss: 0.6443 - accuracy: 0.7907\n",
      "Epoch 00088: val_loss did not improve from 0.51373\n",
      "219/219 [==============================] - 1s 7ms/step - loss: 0.6447 - accuracy: 0.7906 - val_loss: 0.5192 - val_accuracy: 0.8426\n",
      "Epoch 89/100\n",
      "217/219 [============================>.] - ETA: 0s - loss: 0.6362 - accuracy: 0.7923\n",
      "Epoch 00089: val_loss improved from 0.51373 to 0.50719, saving model to saved_models\\audio_classification.hdf5\n",
      "219/219 [==============================] - 2s 8ms/step - loss: 0.6368 - accuracy: 0.7923 - val_loss: 0.5072 - val_accuracy: 0.8517\n",
      "Epoch 90/100\n",
      "216/219 [============================>.] - ETA: 0s - loss: 0.6309 - accuracy: 0.7970\n",
      "Epoch 00090: val_loss did not improve from 0.50719\n",
      "219/219 [==============================] - 2s 7ms/step - loss: 0.6304 - accuracy: 0.7969 - val_loss: 0.5117 - val_accuracy: 0.8569\n",
      "Epoch 91/100\n",
      "213/219 [============================>.] - ETA: 0s - loss: 0.6358 - accuracy: 0.7896\n",
      "Epoch 00091: val_loss did not improve from 0.50719\n",
      "219/219 [==============================] - 1s 6ms/step - loss: 0.6348 - accuracy: 0.7895 - val_loss: 0.5273 - val_accuracy: 0.8454\n",
      "Epoch 92/100\n",
      "218/219 [============================>.] - ETA: 0s - loss: 0.6242 - accuracy: 0.7979\n",
      "Epoch 00092: val_loss did not improve from 0.50719\n",
      "219/219 [==============================] - 1s 4ms/step - loss: 0.6238 - accuracy: 0.7980 - val_loss: 0.5074 - val_accuracy: 0.8437\n",
      "Epoch 93/100\n",
      "211/219 [===========================>..] - ETA: 0s - loss: 0.6424 - accuracy: 0.7934\n",
      "Epoch 00093: val_loss did not improve from 0.50719\n",
      "219/219 [==============================] - 1s 4ms/step - loss: 0.6436 - accuracy: 0.7927 - val_loss: 0.5156 - val_accuracy: 0.8489\n",
      "Epoch 94/100\n",
      "215/219 [============================>.] - ETA: 0s - loss: 0.6264 - accuracy: 0.7917\n",
      "Epoch 00094: val_loss did not improve from 0.50719\n",
      "219/219 [==============================] - 1s 6ms/step - loss: 0.6275 - accuracy: 0.7923 - val_loss: 0.5212 - val_accuracy: 0.8472\n",
      "Epoch 95/100\n",
      "211/219 [===========================>..] - ETA: 0s - loss: 0.6352 - accuracy: 0.7884\n",
      "Epoch 00095: val_loss did not improve from 0.50719\n",
      "219/219 [==============================] - 1s 6ms/step - loss: 0.6351 - accuracy: 0.7890 - val_loss: 0.5309 - val_accuracy: 0.8374\n",
      "Epoch 96/100\n",
      "213/219 [============================>.] - ETA: 0s - loss: 0.6355 - accuracy: 0.7918\n",
      "Epoch 00096: val_loss improved from 0.50719 to 0.49876, saving model to saved_models\\audio_classification.hdf5\n",
      "219/219 [==============================] - 1s 7ms/step - loss: 0.6382 - accuracy: 0.7907 - val_loss: 0.4988 - val_accuracy: 0.8495\n",
      "Epoch 97/100\n",
      "212/219 [============================>.] - ETA: 0s - loss: 0.6300 - accuracy: 0.7986\n",
      "Epoch 00097: val_loss improved from 0.49876 to 0.49602, saving model to saved_models\\audio_classification.hdf5\n",
      "219/219 [==============================] - 2s 8ms/step - loss: 0.6327 - accuracy: 0.7966 - val_loss: 0.4960 - val_accuracy: 0.8523\n",
      "Epoch 98/100\n",
      "215/219 [============================>.] - ETA: 0s - loss: 0.6400 - accuracy: 0.7906\n",
      "Epoch 00098: val_loss did not improve from 0.49602\n",
      "219/219 [==============================] - 1s 7ms/step - loss: 0.6412 - accuracy: 0.7901 - val_loss: 0.5024 - val_accuracy: 0.8397\n",
      "Epoch 99/100\n",
      "216/219 [============================>.] - ETA: 0s - loss: 0.6148 - accuracy: 0.7996\n",
      "Epoch 00099: val_loss did not improve from 0.49602\n",
      "219/219 [==============================] - 1s 7ms/step - loss: 0.6160 - accuracy: 0.7994 - val_loss: 0.5053 - val_accuracy: 0.8512\n",
      "Epoch 100/100\n",
      "217/219 [============================>.] - ETA: 0s - loss: 0.5885 - accuracy: 0.8109\n",
      "Epoch 00100: val_loss did not improve from 0.49602\n",
      "219/219 [==============================] - 1s 6ms/step - loss: 0.5884 - accuracy: 0.8107 - val_loss: 0.5060 - val_accuracy: 0.8454\n",
      "Training completed in time:  0:03:09.292587\n"
     ]
    }
   ],
   "source": [
    "## Trianing my model\n",
    "from tensorflow.keras.callbacks import ModelCheckpoint\n",
    "from datetime import datetime \n",
    "\n",
    "num_epochs = 100\n",
    "num_batch_size = 32\n",
    "\n",
    "checkpointer = ModelCheckpoint(filepath='saved_models/audio_classification.hdf5', \n",
    "                               verbose=1, save_best_only=True)\n",
    "start = datetime.now()\n",
    "\n",
    "model.fit(X_train, y_train, batch_size=num_batch_size, epochs=num_epochs, validation_data=(X_test, y_test), callbacks=[checkpointer], verbose=1)\n",
    "\n",
    "\n",
    "duration = datetime.now() - start\n",
    "print(\"Training completed in time: \", duration)"
   ]
  },
  {
   "cell_type": "code",
   "execution_count": 99,
   "metadata": {},
   "outputs": [
    {
     "name": "stdout",
     "output_type": "stream",
     "text": [
      "0.8454493284225464\n"
     ]
    }
   ],
   "source": [
    "test_accuracy=model.evaluate(X_test,y_test,verbose=0)\n",
    "print(test_accuracy[1])"
   ]
  },
  {
   "cell_type": "markdown",
   "metadata": {},
   "source": [
    "# MODEL TESTING"
   ]
  },
  {
   "cell_type": "code",
   "execution_count": 100,
   "metadata": {},
   "outputs": [
    {
     "name": "stdout",
     "output_type": "stream",
     "text": [
      "[[-3.6673660e+02  1.3503891e+02 -4.2616154e+01  1.6085056e+01\n",
      "  -2.2375364e+01  9.1354361e+00 -1.9351471e+01  4.8132019e+00\n",
      "  -1.0816058e+01  1.0070497e+01 -9.6575966e+00 -3.7269032e+00\n",
      "  -1.2884995e+01  5.1683006e+00 -7.4820943e+00 -4.2542825e+00\n",
      "  -1.1013007e+00 -4.5083997e-01 -1.4741901e+00  1.2964101e+00\n",
      "  -4.3857333e-01 -1.0769862e+00 -2.9204769e+00 -2.5535488e+00\n",
      "  -9.9449927e-01 -2.8227601e+00 -4.1575103e+00 -1.4736261e+00\n",
      "   1.2933216e+00 -2.3706808e+00 -5.1770988e+00 -5.9800525e+00\n",
      "  -2.0016951e-02 -1.5042423e+00  2.2850301e-02 -1.4173561e+00\n",
      "  -1.7186699e+00 -3.7543144e+00 -2.1987939e+00 -3.3046384e+00]]\n",
      "(1, 40)\n",
      "[2]\n"
     ]
    },
    {
     "data": {
      "text/plain": [
       "array(['children_playing'], dtype='<U16')"
      ]
     },
     "execution_count": 100,
     "metadata": {},
     "output_type": "execute_result"
    }
   ],
   "source": [
    "filename=\"UrbanSound8K/childs.wav\"\n",
    "audio, sample_rate = librosa.load(filename, res_type='kaiser_fast') \n",
    "mfccs_features = librosa.feature.mfcc(y=audio, sr=sample_rate, n_mfcc=40)\n",
    "mfccs_scaled_features = np.mean(mfccs_features.T,axis=0)\n",
    "\n",
    "mfccs_scaled_features=mfccs_scaled_features.reshape(1,-1)\n",
    "print(mfccs_scaled_features)\n",
    "print(mfccs_scaled_features.shape)\n",
    "predicted_label=np.argmax(model.predict(mfccs_scaled_features), axis=-1)\n",
    "print(predicted_label)\n",
    "prediction_class = labelencoder.inverse_transform(predicted_label) \n",
    "prediction_class"
   ]
  },
  {
   "cell_type": "code",
   "execution_count": 101,
   "metadata": {},
   "outputs": [
    {
     "name": "stdout",
     "output_type": "stream",
     "text": [
      "0.8454493284225464\n"
     ]
    }
   ],
   "source": [
    "#test data accuracy\n",
    "test_accuracy=model.evaluate(X_test,y_test,verbose=0)\n",
    "print(test_accuracy[1])"
   ]
  },
  {
   "cell_type": "code",
   "execution_count": 102,
   "metadata": {},
   "outputs": [
    {
     "name": "stdout",
     "output_type": "stream",
     "text": [
      "0.8956335186958313\n"
     ]
    }
   ],
   "source": [
    "#train data accuracy\n",
    "train_accuracy=model.evaluate(X_train,y_train,verbose=0)\n",
    "print(train_accuracy[1])\n"
   ]
  },
  {
   "cell_type": "code",
   "execution_count": null,
   "metadata": {},
   "outputs": [],
   "source": []
  },
  {
   "cell_type": "code",
   "execution_count": 103,
   "metadata": {},
   "outputs": [],
   "source": [
    "def print_prediction(filename):\n",
    "    audio, sample_rate = librosa.load(filename, res_type='kaiser_fast') \n",
    "    mfccs_features = librosa.feature.mfcc(y=audio, sr=sample_rate, n_mfcc=40)\n",
    "    mfccs_scaled_features = np.mean(mfccs_features.T,axis=0)\n",
    "    mfccs_scaled_features=mfccs_scaled_features.reshape(1,-1)\n",
    "    predicted_label=np.argmax(model.predict(mfccs_scaled_features), axis=-1)\n",
    "    prediction_class = labelencoder.inverse_transform(predicted_label) \n",
    "    print('The predicted class is',*prediction_class)"
   ]
  },
  {
   "cell_type": "code",
   "execution_count": 150,
   "metadata": {},
   "outputs": [
    {
     "name": "stdout",
     "output_type": "stream",
     "text": [
      "The predicted class is car_horn\n"
     ]
    }
   ],
   "source": [
    "filename = r\"C:\\Users\\PRIYA LAKKU\\Downloads\\mixkit-car-horn-718.wav\"\n",
    "print_prediction(filename)\n"
   ]
  },
  {
   "cell_type": "code",
   "execution_count": 163,
   "metadata": {},
   "outputs": [
    {
     "name": "stdout",
     "output_type": "stream",
     "text": [
      "The predicted class is siren\n"
     ]
    }
   ],
   "source": [
    "filename = r\"C:\\Users\\PRIYA LAKKU\\Downloads\\mixkit-ambulance-siren-uk-1640.wav\"\n",
    "print_prediction(filename)"
   ]
  },
  {
   "cell_type": "code",
   "execution_count": 151,
   "metadata": {},
   "outputs": [
    {
     "name": "stdout",
     "output_type": "stream",
     "text": [
      "The predicted class is children_playing\n"
     ]
    }
   ],
   "source": [
    "filename = r\"C:\\Users\\PRIYA LAKKU\\Downloads\\airplane-fly-over-02a.wav\"\n",
    "print_prediction(filename)"
   ]
  },
  {
   "cell_type": "code",
   "execution_count": 159,
   "metadata": {},
   "outputs": [
    {
     "name": "stdout",
     "output_type": "stream",
     "text": [
      "The predicted class is children_playing\n"
     ]
    }
   ],
   "source": [
    "filename = r\"C:\\Users\\PRIYA LAKKU\\Downloads\\soundscrate-machine-gun-fire-4.wav\"\n",
    "print_prediction(filename)"
   ]
  },
  {
   "cell_type": "code",
   "execution_count": 158,
   "metadata": {},
   "outputs": [
    {
     "name": "stdout",
     "output_type": "stream",
     "text": [
      "The predicted class is gun_shot\n"
     ]
    }
   ],
   "source": [
    "filename = r\"D:\\UrbanSound8K\\audio\\fold8\\7068-6-0-0.wav\"\n",
    "print_prediction(filename)"
   ]
  },
  {
   "cell_type": "code",
   "execution_count": 162,
   "metadata": {},
   "outputs": [
    {
     "name": "stdout",
     "output_type": "stream",
     "text": [
      "The predicted class is street_music\n"
     ]
    }
   ],
   "source": [
    "filename = r\"C:\\Users\\PRIYA LAKKU\\Downloads\\liftmsic.wav\"\n",
    "print_prediction(filename)"
   ]
  },
  {
   "cell_type": "code",
   "execution_count": null,
   "metadata": {},
   "outputs": [],
   "source": []
  }
 ],
 "metadata": {
  "kernelspec": {
   "display_name": "Python 3",
   "language": "python",
   "name": "python3"
  },
  "language_info": {
   "codemirror_mode": {
    "name": "ipython",
    "version": 3
   },
   "file_extension": ".py",
   "mimetype": "text/x-python",
   "name": "python",
   "nbconvert_exporter": "python",
   "pygments_lexer": "ipython3",
   "version": "3.8.3"
  }
 },
 "nbformat": 4,
 "nbformat_minor": 4
}
